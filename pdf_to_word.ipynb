{
 "cells": [
  {
   "cell_type": "code",
   "execution_count": null,
   "id": "d0d9a28d-5429-43d3-9c2c-c735f9de0590",
   "metadata": {},
   "outputs": [],
   "source": [
    "# Conver a pdf with limited permissions to a word file\n",
    "# sudo apt-get install qpdf\n",
    "!qpdf --decrypt example_1.pdf input.pdf\n",
    "# The pdf file is now ready to be converted using an online tool as well\n",
    "import webbrowser\n",
    "webbrowser.open('https://www.adobe.com/uk/acrobat/online/pdf-to-word.html')\n",
    "#!pip install pdf2docx\n",
    "from pdf2docx import Converter\n",
    "pdf_file_path = 'input.pdf'\n",
    "docx_file_path = 'output.docx'\n",
    "cv = Converter(pdf_file_path)\n",
    "cv.convert(docx_file_path, start=0, end=None)\n",
    "cv.close()\n",
    "print(f'Conversion complete. Word file saved as {docx_file_path}')"
   ]
  },
  {
   "cell_type": "code",
   "execution_count": null,
   "id": "75080609-c4fd-4e72-8ec9-0bf6939a0feb",
   "metadata": {},
   "outputs": [],
   "source": []
  }
 ],
 "metadata": {
  "kernelspec": {
   "display_name": "Python 3 (ipykernel)",
   "language": "python",
   "name": "python3"
  },
  "language_info": {
   "codemirror_mode": {
    "name": "ipython",
    "version": 3
   },
   "file_extension": ".py",
   "mimetype": "text/x-python",
   "name": "python",
   "nbconvert_exporter": "python",
   "pygments_lexer": "ipython3",
   "version": "3.10.4"
  }
 },
 "nbformat": 4,
 "nbformat_minor": 5
}
